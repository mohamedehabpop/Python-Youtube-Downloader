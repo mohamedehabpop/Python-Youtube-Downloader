{
 "cells": [
  {
   "cell_type": "code",
   "execution_count": 7,
   "metadata": {},
   "outputs": [],
   "source": [
    "import pafy"
   ]
  },
  {
   "cell_type": "code",
   "execution_count": 9,
   "metadata": {},
   "outputs": [
    {
     "name": "stdout",
     "output_type": "stream",
     "text": [
      "  397,336.0 Bytes [100.00%] received. Rate: [1094 KB/s].  ETA: [0 secs]    \n"
     ]
    }
   ],
   "source": [
    "video = pafy.new('https://www.youtube.com/watch?v=Sv0-NE8sUZw&list=PLb4fKrb8QI0lqKOQIp86FF9npcmvZjBm6&index=5')\n",
    "audiostream = video.getbestaudio()\n",
    "audiostream.download()"
   ]
  },
  {
   "cell_type": "code",
   "execution_count": 4,
   "metadata": {},
   "outputs": [
    {
     "name": "stdout",
     "output_type": "stream",
     "text": [
      "  397,170.0 Bytes [100.00%] received. Rate: [ 944 KB/s].  ETA: [0 secs]    \n",
      "finished:  0\n",
      "link switched\n",
      "  436,615.0 Bytes [100.00%] received. Rate: [ 791 KB/s].  ETA: [0 secs]    \n",
      "finished:  1\n",
      "link switched\n",
      "  370,238.0 Bytes [100.00%] received. Rate: [ 847 KB/s].  ETA: [0 secs]    \n",
      "finished:  2\n",
      "link switched\n"
     ]
    }
   ],
   "source": [
    "# you should add the video link here\n",
    "wanted_links= ['https://www.youtube.com/watch?v=Sv0-NE8sUZw&list=PLb4fKrb8QI0lqKOQIp86FF9npcmvZjBm6&index=4',\n",
    "'https://www.youtube.com/watch?v=jtDdosLLeUU&list=PLb4fKrb8QI0lqKOQIp86FF9npcmvZjBm6&index=5',\n",
    "'https://www.youtube.com/watch?v=RXRVr3zTaUU&list=PLb4fKrb8QI0lqKOQIp86FF9npcmvZjBm6&index=6']\n",
    "index = 0 \n",
    "index_limit = len(wanted_links)\n",
    "for i in wanted_links:\n",
    "    video = pafy.new(wanted_links[index])\n",
    "    audiostream = video.getbestaudio()\n",
    "    audiostream.download()\n",
    "    print('finished: ',str(index))\n",
    "    index +=1\n",
    "    if (index > index_limit):\n",
    "            print(\"links ended\")\n",
    "            break\n",
    "    print(\"link switched\")\n",
    "\n"
   ]
  }
 ],
 "metadata": {
  "kernelspec": {
   "display_name": "Python 3.10.7 64-bit",
   "language": "python",
   "name": "python3"
  },
  "language_info": {
   "codemirror_mode": {
    "name": "ipython",
    "version": 3
   },
   "file_extension": ".py",
   "mimetype": "text/x-python",
   "name": "python",
   "nbconvert_exporter": "python",
   "pygments_lexer": "ipython3",
   "version": "3.10.7"
  },
  "orig_nbformat": 4,
  "vscode": {
   "interpreter": {
    "hash": "bcf3156e42c924e019736696b32abf1fe284236f2bdd771572f2f6f1e5f36244"
   }
  }
 },
 "nbformat": 4,
 "nbformat_minor": 2
}
